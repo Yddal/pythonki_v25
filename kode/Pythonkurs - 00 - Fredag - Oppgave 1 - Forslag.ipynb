{
 "cells": [
  {
   "cell_type": "code",
   "execution_count": 1,
   "id": "61b94363-63ba-4f64-9b6b-89edc49b4a22",
   "metadata": {},
   "outputs": [
    {
     "name": "stdout",
     "output_type": "stream",
     "text": [
      "Version:  1.6.1\n"
     ]
    }
   ],
   "source": [
    "import sklearn #\n",
    "print('Version: ', sklearn.__version__)"
   ]
  },
  {
   "cell_type": "code",
   "execution_count": 2,
   "id": "388e1d38-c868-44f1-b788-827adda2a618",
   "metadata": {},
   "outputs": [],
   "source": [
    "from sklearn import set_config\n",
    "set_config(display=\"diagram\")"
   ]
  },
  {
   "cell_type": "code",
   "execution_count": 4,
   "id": "4b7fad26-a051-4759-9884-e87e48c3751b",
   "metadata": {},
   "outputs": [],
   "source": [
    "from sklearn.datasets import load_iris\n",
    "from sklearn.linear_model import LogisticRegression\n",
    "\n",
    "X, y = load_iris(return_X_y=True)"
   ]
  },
  {
   "cell_type": "code",
   "execution_count": 5,
   "id": "1a913478-9d22-4138-8834-9ee3247c9ad1",
   "metadata": {},
   "outputs": [],
   "source": [
    "import numpy as np\n",
    "\n",
    "newer_data = np.array([[5.5, 2.9, 4.0, 1.4]])"
   ]
  },
  {
   "cell_type": "code",
   "execution_count": 6,
   "id": "f4a997c8-4d30-425a-be6b-51e7b8c5374f",
   "metadata": {},
   "outputs": [
    {
     "name": "stdout",
     "output_type": "stream",
     "text": [
      "<class 'numpy.ndarray'>\n",
      "<class 'numpy.ndarray'>\n",
      "150\n",
      "150\n",
      "[[5.1 3.5 1.4 0.2]\n",
      " [4.9 3.  1.4 0.2]\n",
      " [4.7 3.2 1.3 0.2]\n",
      " [4.6 3.1 1.5 0.2]\n",
      " [5.  3.6 1.4 0.2]]\n",
      "[0 0 0 0 0]\n"
     ]
    }
   ],
   "source": [
    "# Inspect the data before proceeding\n",
    "print(type(X)) # Type of variable X\n",
    "print(type(y)) # Type of variable y\n",
    "\n",
    "print(len(X)) # Length of the ndarray X\n",
    "print(len(y)) # Length of the ndarray y\n",
    "\n",
    "print(X[:5]) # First n elements of ndarray X\n",
    "print(y[:5]) # First n elements of ndarray y"
   ]
  },
  {
   "cell_type": "code",
   "execution_count": 7,
   "id": "79ba6567-ae62-4cc4-884f-49c15ec77f62",
   "metadata": {},
   "outputs": [],
   "source": [
    "clf = LogisticRegression(random_state=42,max_iter=1000).fit(X, y)"
   ]
  },
  {
   "cell_type": "code",
   "execution_count": 8,
   "id": "b09766a1-28f1-478b-beba-a94eb8ba1a9b",
   "metadata": {},
   "outputs": [
    {
     "data": {
      "text/plain": [
       "array([1])"
      ]
     },
     "execution_count": 8,
     "metadata": {},
     "output_type": "execute_result"
    }
   ],
   "source": [
    "clf.predict(newer_data) # clf.predict(X[:5, :])"
   ]
  },
  {
   "cell_type": "code",
   "execution_count": 9,
   "id": "278fe4c6-36c2-4840-8866-33ce1fc3d4de",
   "metadata": {},
   "outputs": [
    {
     "data": {
      "text/plain": [
       "array([[0.03192282, 0.91933332, 0.04874385]])"
      ]
     },
     "execution_count": 9,
     "metadata": {},
     "output_type": "execute_result"
    }
   ],
   "source": [
    "clf.predict_proba(newer_data) # clf.predict_proba(X[:5, :])"
   ]
  },
  {
   "cell_type": "code",
   "execution_count": 10,
   "id": "6603f458-8b73-45f6-85d6-62b9848a7e33",
   "metadata": {},
   "outputs": [
    {
     "data": {
      "text/plain": [
       "0.9733333333333334"
      ]
     },
     "execution_count": 10,
     "metadata": {},
     "output_type": "execute_result"
    }
   ],
   "source": [
    "clf.score(X, y)"
   ]
  },
  {
   "cell_type": "code",
   "execution_count": null,
   "id": "709b945c-76d0-47eb-a685-8c032f1f9e1a",
   "metadata": {},
   "outputs": [],
   "source": []
  }
 ],
 "metadata": {
  "kernelspec": {
   "display_name": "Python 3 (ipykernel)",
   "language": "python",
   "name": "python3"
  },
  "language_info": {
   "codemirror_mode": {
    "name": "ipython",
    "version": 3
   },
   "file_extension": ".py",
   "mimetype": "text/x-python",
   "name": "python",
   "nbconvert_exporter": "python",
   "pygments_lexer": "ipython3",
   "version": "3.12.7"
  }
 },
 "nbformat": 4,
 "nbformat_minor": 5
}
