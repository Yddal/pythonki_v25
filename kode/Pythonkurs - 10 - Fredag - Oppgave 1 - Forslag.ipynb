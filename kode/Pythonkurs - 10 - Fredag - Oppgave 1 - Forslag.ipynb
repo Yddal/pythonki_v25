{
  "cells": [
    {
      "cell_type": "markdown",
      "metadata": {
        "id": "view-in-github",
        "colab_type": "text"
      },
      "source": [
        "<a href=\"https://colab.research.google.com/github/kbotnen/pythonki_v25/blob/main/kode/Pythonkurs%20-%2000%20-%20Fredag%20-%20Oppgave%201%20-%20Forslag.ipynb\" target=\"_parent\"><img src=\"https://colab.research.google.com/assets/colab-badge.svg\" alt=\"Open In Colab\"/></a>"
      ]
    },
    {
      "cell_type": "code",
      "execution_count": null,
      "id": "61b94363-63ba-4f64-9b6b-89edc49b4a22",
      "metadata": {
        "id": "61b94363-63ba-4f64-9b6b-89edc49b4a22"
      },
      "outputs": [],
      "source": [
        "import sklearn #\n",
        "print('Version: ', sklearn.__version__)"
      ]
    },
    {
      "cell_type": "code",
      "execution_count": null,
      "id": "388e1d38-c868-44f1-b788-827adda2a618",
      "metadata": {
        "id": "388e1d38-c868-44f1-b788-827adda2a618"
      },
      "outputs": [],
      "source": [
        "from sklearn import set_config\n",
        "set_config(display=\"diagram\")"
      ]
    },
    {
      "cell_type": "code",
      "execution_count": null,
      "id": "4b7fad26-a051-4759-9884-e87e48c3751b",
      "metadata": {
        "id": "4b7fad26-a051-4759-9884-e87e48c3751b"
      },
      "outputs": [],
      "source": [
        "from sklearn.datasets import load_iris\n",
        "from sklearn.linear_model import LogisticRegression\n",
        "\n",
        "X, y = load_iris(return_X_y=True)"
      ]
    },
    {
      "cell_type": "code",
      "execution_count": null,
      "id": "1a913478-9d22-4138-8834-9ee3247c9ad1",
      "metadata": {
        "id": "1a913478-9d22-4138-8834-9ee3247c9ad1"
      },
      "outputs": [],
      "source": [
        "import numpy as np\n",
        "\n",
        "newer_data = np.array([[5.5, 2.9, 4.0, 1.4]])"
      ]
    },
    {
      "cell_type": "code",
      "execution_count": null,
      "id": "f4a997c8-4d30-425a-be6b-51e7b8c5374f",
      "metadata": {
        "id": "f4a997c8-4d30-425a-be6b-51e7b8c5374f"
      },
      "outputs": [],
      "source": [
        "# Inspect the data before proceeding\n",
        "print(type(X)) # Type of variable X\n",
        "print(type(y)) # Type of variable y\n",
        "\n",
        "print(len(X)) # Length of the ndarray X\n",
        "print(len(y)) # Length of the ndarray y\n",
        "\n",
        "print(X[:5]) # First n elements of ndarray X\n",
        "print(y[:5]) # First n elements of ndarray y"
      ]
    },
    {
      "cell_type": "code",
      "execution_count": null,
      "id": "79ba6567-ae62-4cc4-884f-49c15ec77f62",
      "metadata": {
        "id": "79ba6567-ae62-4cc4-884f-49c15ec77f62"
      },
      "outputs": [],
      "source": [
        "clf = LogisticRegression(random_state=42,max_iter=1000).fit(X, y)"
      ]
    },
    {
      "cell_type": "code",
      "execution_count": null,
      "id": "b09766a1-28f1-478b-beba-a94eb8ba1a9b",
      "metadata": {
        "id": "b09766a1-28f1-478b-beba-a94eb8ba1a9b"
      },
      "outputs": [],
      "source": [
        "clf.predict(newer_data) # clf.predict(X[:5, :])"
      ]
    },
    {
      "cell_type": "code",
      "execution_count": null,
      "id": "278fe4c6-36c2-4840-8866-33ce1fc3d4de",
      "metadata": {
        "id": "278fe4c6-36c2-4840-8866-33ce1fc3d4de"
      },
      "outputs": [],
      "source": [
        "clf.predict_proba(newer_data) # clf.predict_proba(X[:5, :])"
      ]
    },
    {
      "cell_type": "code",
      "execution_count": null,
      "id": "6603f458-8b73-45f6-85d6-62b9848a7e33",
      "metadata": {
        "id": "6603f458-8b73-45f6-85d6-62b9848a7e33"
      },
      "outputs": [],
      "source": [
        "clf.score(X, y)"
      ]
    },
    {
      "cell_type": "code",
      "execution_count": null,
      "id": "709b945c-76d0-47eb-a685-8c032f1f9e1a",
      "metadata": {
        "id": "709b945c-76d0-47eb-a685-8c032f1f9e1a"
      },
      "outputs": [],
      "source": []
    }
  ],
  "metadata": {
    "kernelspec": {
      "display_name": "Python 3 (ipykernel)",
      "language": "python",
      "name": "python3"
    },
    "language_info": {
      "codemirror_mode": {
        "name": "ipython",
        "version": 3
      },
      "file_extension": ".py",
      "mimetype": "text/x-python",
      "name": "python",
      "nbconvert_exporter": "python",
      "pygments_lexer": "ipython3",
      "version": "3.12.7"
    },
    "colab": {
      "provenance": [],
      "include_colab_link": true
    }
  },
  "nbformat": 4,
  "nbformat_minor": 5
}
